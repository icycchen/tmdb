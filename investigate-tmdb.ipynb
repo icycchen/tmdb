{
 "cells": [
  {
   "cell_type": "markdown",
   "metadata": {},
   "source": [
    "\n",
    "\n",
    "# Project: Investigate TMDB dataset.\n",
    "\n",
    "\n",
    "\n",
    "## Table of Contents\n",
    "<ul>\n",
    "<li><a href=\"#intro\">Introduction</a></li>\n",
    "<li><a href=\"#wrangling\">Data Wrangling</a></li>\n",
    "<li><a href=\"#eda\">Exploratory Data Analysis</a></li>\n",
    "<li><a href=\"#conclusions\">Conclusions</a></li>\n",
    "</ul>"
   ]
  },
  {
   "cell_type": "markdown",
   "metadata": {},
   "source": [
    "<a id='intro'></a>\n",
    "## Introduction\n",
    "\n",
    "> In this report, the TMBd Movie Dataset was analyzed. This dataset contains information for over 10,000 moveis obtained from The Movie Data Base(TMBd). The dataset contains information about movie genres, production company, director, cast, release date, budget, revenue and etc. Besides, a popularity value in this dataset was built by TMBd which represents how popular the movie is. \n",
    "\n",
    "\n",
    "> Research questions:\n",
    "1. The relationship between adjusted revenue and popularity\n",
    "2. The relationship between adjusted revenue and bugdets.\n",
    "3. The relationship between vote count/vote average with profits. \n",
    "3. The relationship between profits with movie genre. \n",
    "4. The relationship between profits with movie director.\n",
    "5. The relationship between the profits with movie cast."
   ]
  },
  {
   "cell_type": "code",
   "execution_count": 1,
   "metadata": {},
   "outputs": [],
   "source": [
    "import pandas as pd\n",
    "import seaborn as sns\n",
    "import numpy as np\n",
    "import matplotlib.pyplot as plt"
   ]
  },
  {
   "cell_type": "markdown",
   "metadata": {},
   "source": [
    "<a id='wrangling'></a>\n",
    "## Data Wrangling\n",
    "\n",
    "\n",
    "### General Properties"
   ]
  },
  {
   "cell_type": "code",
   "execution_count": 2,
   "metadata": {},
   "outputs": [],
   "source": [
    "tmdb = pd.read_csv(\"tmdb-movies.csv\")"
   ]
  },
  {
   "cell_type": "code",
   "execution_count": 3,
   "metadata": {
    "scrolled": false
   },
   "outputs": [
    {
     "data": {
      "text/html": [
       "<div>\n",
       "<style scoped>\n",
       "    .dataframe tbody tr th:only-of-type {\n",
       "        vertical-align: middle;\n",
       "    }\n",
       "\n",
       "    .dataframe tbody tr th {\n",
       "        vertical-align: top;\n",
       "    }\n",
       "\n",
       "    .dataframe thead th {\n",
       "        text-align: right;\n",
       "    }\n",
       "</style>\n",
       "<table border=\"1\" class=\"dataframe\">\n",
       "  <thead>\n",
       "    <tr style=\"text-align: right;\">\n",
       "      <th></th>\n",
       "      <th>id</th>\n",
       "      <th>imdb_id</th>\n",
       "      <th>popularity</th>\n",
       "      <th>budget</th>\n",
       "      <th>revenue</th>\n",
       "      <th>original_title</th>\n",
       "      <th>cast</th>\n",
       "      <th>homepage</th>\n",
       "      <th>director</th>\n",
       "      <th>tagline</th>\n",
       "      <th>...</th>\n",
       "      <th>overview</th>\n",
       "      <th>runtime</th>\n",
       "      <th>genres</th>\n",
       "      <th>production_companies</th>\n",
       "      <th>release_date</th>\n",
       "      <th>vote_count</th>\n",
       "      <th>vote_average</th>\n",
       "      <th>release_year</th>\n",
       "      <th>budget_adj</th>\n",
       "      <th>revenue_adj</th>\n",
       "    </tr>\n",
       "  </thead>\n",
       "  <tbody>\n",
       "    <tr>\n",
       "      <th>0</th>\n",
       "      <td>135397</td>\n",
       "      <td>tt0369610</td>\n",
       "      <td>32.985763</td>\n",
       "      <td>150000000</td>\n",
       "      <td>1513528810</td>\n",
       "      <td>Jurassic World</td>\n",
       "      <td>Chris Pratt|Bryce Dallas Howard|Irrfan Khan|Vi...</td>\n",
       "      <td>http://www.jurassicworld.com/</td>\n",
       "      <td>Colin Trevorrow</td>\n",
       "      <td>The park is open.</td>\n",
       "      <td>...</td>\n",
       "      <td>Twenty-two years after the events of Jurassic ...</td>\n",
       "      <td>124</td>\n",
       "      <td>Action|Adventure|Science Fiction|Thriller</td>\n",
       "      <td>Universal Studios|Amblin Entertainment|Legenda...</td>\n",
       "      <td>6/9/15</td>\n",
       "      <td>5562</td>\n",
       "      <td>6.5</td>\n",
       "      <td>2015</td>\n",
       "      <td>1.379999e+08</td>\n",
       "      <td>1.392446e+09</td>\n",
       "    </tr>\n",
       "    <tr>\n",
       "      <th>1</th>\n",
       "      <td>76341</td>\n",
       "      <td>tt1392190</td>\n",
       "      <td>28.419936</td>\n",
       "      <td>150000000</td>\n",
       "      <td>378436354</td>\n",
       "      <td>Mad Max: Fury Road</td>\n",
       "      <td>Tom Hardy|Charlize Theron|Hugh Keays-Byrne|Nic...</td>\n",
       "      <td>http://www.madmaxmovie.com/</td>\n",
       "      <td>George Miller</td>\n",
       "      <td>What a Lovely Day.</td>\n",
       "      <td>...</td>\n",
       "      <td>An apocalyptic story set in the furthest reach...</td>\n",
       "      <td>120</td>\n",
       "      <td>Action|Adventure|Science Fiction|Thriller</td>\n",
       "      <td>Village Roadshow Pictures|Kennedy Miller Produ...</td>\n",
       "      <td>5/13/15</td>\n",
       "      <td>6185</td>\n",
       "      <td>7.1</td>\n",
       "      <td>2015</td>\n",
       "      <td>1.379999e+08</td>\n",
       "      <td>3.481613e+08</td>\n",
       "    </tr>\n",
       "    <tr>\n",
       "      <th>2</th>\n",
       "      <td>262500</td>\n",
       "      <td>tt2908446</td>\n",
       "      <td>13.112507</td>\n",
       "      <td>110000000</td>\n",
       "      <td>295238201</td>\n",
       "      <td>Insurgent</td>\n",
       "      <td>Shailene Woodley|Theo James|Kate Winslet|Ansel...</td>\n",
       "      <td>http://www.thedivergentseries.movie/#insurgent</td>\n",
       "      <td>Robert Schwentke</td>\n",
       "      <td>One Choice Can Destroy You</td>\n",
       "      <td>...</td>\n",
       "      <td>Beatrice Prior must confront her inner demons ...</td>\n",
       "      <td>119</td>\n",
       "      <td>Adventure|Science Fiction|Thriller</td>\n",
       "      <td>Summit Entertainment|Mandeville Films|Red Wago...</td>\n",
       "      <td>3/18/15</td>\n",
       "      <td>2480</td>\n",
       "      <td>6.3</td>\n",
       "      <td>2015</td>\n",
       "      <td>1.012000e+08</td>\n",
       "      <td>2.716190e+08</td>\n",
       "    </tr>\n",
       "    <tr>\n",
       "      <th>3</th>\n",
       "      <td>140607</td>\n",
       "      <td>tt2488496</td>\n",
       "      <td>11.173104</td>\n",
       "      <td>200000000</td>\n",
       "      <td>2068178225</td>\n",
       "      <td>Star Wars: The Force Awakens</td>\n",
       "      <td>Harrison Ford|Mark Hamill|Carrie Fisher|Adam D...</td>\n",
       "      <td>http://www.starwars.com/films/star-wars-episod...</td>\n",
       "      <td>J.J. Abrams</td>\n",
       "      <td>Every generation has a story.</td>\n",
       "      <td>...</td>\n",
       "      <td>Thirty years after defeating the Galactic Empi...</td>\n",
       "      <td>136</td>\n",
       "      <td>Action|Adventure|Science Fiction|Fantasy</td>\n",
       "      <td>Lucasfilm|Truenorth Productions|Bad Robot</td>\n",
       "      <td>12/15/15</td>\n",
       "      <td>5292</td>\n",
       "      <td>7.5</td>\n",
       "      <td>2015</td>\n",
       "      <td>1.839999e+08</td>\n",
       "      <td>1.902723e+09</td>\n",
       "    </tr>\n",
       "    <tr>\n",
       "      <th>4</th>\n",
       "      <td>168259</td>\n",
       "      <td>tt2820852</td>\n",
       "      <td>9.335014</td>\n",
       "      <td>190000000</td>\n",
       "      <td>1506249360</td>\n",
       "      <td>Furious 7</td>\n",
       "      <td>Vin Diesel|Paul Walker|Jason Statham|Michelle ...</td>\n",
       "      <td>http://www.furious7.com/</td>\n",
       "      <td>James Wan</td>\n",
       "      <td>Vengeance Hits Home</td>\n",
       "      <td>...</td>\n",
       "      <td>Deckard Shaw seeks revenge against Dominic Tor...</td>\n",
       "      <td>137</td>\n",
       "      <td>Action|Crime|Thriller</td>\n",
       "      <td>Universal Pictures|Original Film|Media Rights ...</td>\n",
       "      <td>4/1/15</td>\n",
       "      <td>2947</td>\n",
       "      <td>7.3</td>\n",
       "      <td>2015</td>\n",
       "      <td>1.747999e+08</td>\n",
       "      <td>1.385749e+09</td>\n",
       "    </tr>\n",
       "  </tbody>\n",
       "</table>\n",
       "<p>5 rows × 21 columns</p>\n",
       "</div>"
      ],
      "text/plain": [
       "       id    imdb_id  popularity     budget     revenue  \\\n",
       "0  135397  tt0369610   32.985763  150000000  1513528810   \n",
       "1   76341  tt1392190   28.419936  150000000   378436354   \n",
       "2  262500  tt2908446   13.112507  110000000   295238201   \n",
       "3  140607  tt2488496   11.173104  200000000  2068178225   \n",
       "4  168259  tt2820852    9.335014  190000000  1506249360   \n",
       "\n",
       "                 original_title  \\\n",
       "0                Jurassic World   \n",
       "1            Mad Max: Fury Road   \n",
       "2                     Insurgent   \n",
       "3  Star Wars: The Force Awakens   \n",
       "4                     Furious 7   \n",
       "\n",
       "                                                cast  \\\n",
       "0  Chris Pratt|Bryce Dallas Howard|Irrfan Khan|Vi...   \n",
       "1  Tom Hardy|Charlize Theron|Hugh Keays-Byrne|Nic...   \n",
       "2  Shailene Woodley|Theo James|Kate Winslet|Ansel...   \n",
       "3  Harrison Ford|Mark Hamill|Carrie Fisher|Adam D...   \n",
       "4  Vin Diesel|Paul Walker|Jason Statham|Michelle ...   \n",
       "\n",
       "                                            homepage          director  \\\n",
       "0                      http://www.jurassicworld.com/   Colin Trevorrow   \n",
       "1                        http://www.madmaxmovie.com/     George Miller   \n",
       "2     http://www.thedivergentseries.movie/#insurgent  Robert Schwentke   \n",
       "3  http://www.starwars.com/films/star-wars-episod...       J.J. Abrams   \n",
       "4                           http://www.furious7.com/         James Wan   \n",
       "\n",
       "                         tagline      ...       \\\n",
       "0              The park is open.      ...        \n",
       "1             What a Lovely Day.      ...        \n",
       "2     One Choice Can Destroy You      ...        \n",
       "3  Every generation has a story.      ...        \n",
       "4            Vengeance Hits Home      ...        \n",
       "\n",
       "                                            overview runtime  \\\n",
       "0  Twenty-two years after the events of Jurassic ...     124   \n",
       "1  An apocalyptic story set in the furthest reach...     120   \n",
       "2  Beatrice Prior must confront her inner demons ...     119   \n",
       "3  Thirty years after defeating the Galactic Empi...     136   \n",
       "4  Deckard Shaw seeks revenge against Dominic Tor...     137   \n",
       "\n",
       "                                      genres  \\\n",
       "0  Action|Adventure|Science Fiction|Thriller   \n",
       "1  Action|Adventure|Science Fiction|Thriller   \n",
       "2         Adventure|Science Fiction|Thriller   \n",
       "3   Action|Adventure|Science Fiction|Fantasy   \n",
       "4                      Action|Crime|Thriller   \n",
       "\n",
       "                                production_companies release_date vote_count  \\\n",
       "0  Universal Studios|Amblin Entertainment|Legenda...       6/9/15       5562   \n",
       "1  Village Roadshow Pictures|Kennedy Miller Produ...      5/13/15       6185   \n",
       "2  Summit Entertainment|Mandeville Films|Red Wago...      3/18/15       2480   \n",
       "3          Lucasfilm|Truenorth Productions|Bad Robot     12/15/15       5292   \n",
       "4  Universal Pictures|Original Film|Media Rights ...       4/1/15       2947   \n",
       "\n",
       "   vote_average  release_year    budget_adj   revenue_adj  \n",
       "0           6.5          2015  1.379999e+08  1.392446e+09  \n",
       "1           7.1          2015  1.379999e+08  3.481613e+08  \n",
       "2           6.3          2015  1.012000e+08  2.716190e+08  \n",
       "3           7.5          2015  1.839999e+08  1.902723e+09  \n",
       "4           7.3          2015  1.747999e+08  1.385749e+09  \n",
       "\n",
       "[5 rows x 21 columns]"
      ]
     },
     "execution_count": 3,
     "metadata": {},
     "output_type": "execute_result"
    }
   ],
   "source": [
    "tmdb.head()"
   ]
  },
  {
   "cell_type": "code",
   "execution_count": 4,
   "metadata": {},
   "outputs": [
    {
     "data": {
      "text/plain": [
       "(10866, 21)"
      ]
     },
     "execution_count": 4,
     "metadata": {},
     "output_type": "execute_result"
    }
   ],
   "source": [
    "tmdb.shape"
   ]
  },
  {
   "cell_type": "code",
   "execution_count": 5,
   "metadata": {},
   "outputs": [
    {
     "data": {
      "text/plain": [
       "id                        int64\n",
       "imdb_id                  object\n",
       "popularity              float64\n",
       "budget                    int64\n",
       "revenue                   int64\n",
       "original_title           object\n",
       "cast                     object\n",
       "homepage                 object\n",
       "director                 object\n",
       "tagline                  object\n",
       "keywords                 object\n",
       "overview                 object\n",
       "runtime                   int64\n",
       "genres                   object\n",
       "production_companies     object\n",
       "release_date             object\n",
       "vote_count                int64\n",
       "vote_average            float64\n",
       "release_year              int64\n",
       "budget_adj              float64\n",
       "revenue_adj             float64\n",
       "dtype: object"
      ]
     },
     "execution_count": 5,
     "metadata": {},
     "output_type": "execute_result"
    }
   ],
   "source": [
    "tmdb.dtypes"
   ]
  },
  {
   "cell_type": "markdown",
   "metadata": {},
   "source": [
    "Is there any missing values?"
   ]
  },
  {
   "cell_type": "code",
   "execution_count": 6,
   "metadata": {},
   "outputs": [
    {
     "data": {
      "text/plain": [
       "id                         0\n",
       "imdb_id                   10\n",
       "popularity                 0\n",
       "budget                     0\n",
       "revenue                    0\n",
       "original_title             0\n",
       "cast                      76\n",
       "homepage                7930\n",
       "director                  44\n",
       "tagline                 2824\n",
       "keywords                1493\n",
       "overview                   4\n",
       "runtime                    0\n",
       "genres                    23\n",
       "production_companies    1030\n",
       "release_date               0\n",
       "vote_count                 0\n",
       "vote_average               0\n",
       "release_year               0\n",
       "budget_adj                 0\n",
       "revenue_adj                0\n",
       "dtype: int64"
      ]
     },
     "execution_count": 6,
     "metadata": {},
     "output_type": "execute_result"
    }
   ],
   "source": [
    "tmdb.isna().sum()"
   ]
  },
  {
   "cell_type": "markdown",
   "metadata": {},
   "source": [
    "### Data cleaning"
   ]
  },
  {
   "cell_type": "markdown",
   "metadata": {
    "collapsed": true
   },
   "source": [
    "Since we are only using part of the data, we will reduce it to a smaller number of features for further analysis."
   ]
  },
  {
   "cell_type": "code",
   "execution_count": 7,
   "metadata": {},
   "outputs": [],
   "source": [
    "small_tmdb = tmdb.loc[:,[\"popularity\",\"original_title\",\"director\",'runtime',\"genres\"\\\n",
    "                       ,\"vote_count\",\"vote_average\",\"budget_adj\",\"revenue_adj\"]]"
   ]
  },
  {
   "cell_type": "code",
   "execution_count": 8,
   "metadata": {},
   "outputs": [
    {
     "data": {
      "text/html": [
       "<div>\n",
       "<style scoped>\n",
       "    .dataframe tbody tr th:only-of-type {\n",
       "        vertical-align: middle;\n",
       "    }\n",
       "\n",
       "    .dataframe tbody tr th {\n",
       "        vertical-align: top;\n",
       "    }\n",
       "\n",
       "    .dataframe thead th {\n",
       "        text-align: right;\n",
       "    }\n",
       "</style>\n",
       "<table border=\"1\" class=\"dataframe\">\n",
       "  <thead>\n",
       "    <tr style=\"text-align: right;\">\n",
       "      <th></th>\n",
       "      <th>popularity</th>\n",
       "      <th>original_title</th>\n",
       "      <th>director</th>\n",
       "      <th>runtime</th>\n",
       "      <th>genres</th>\n",
       "      <th>vote_count</th>\n",
       "      <th>vote_average</th>\n",
       "      <th>budget_adj</th>\n",
       "      <th>revenue_adj</th>\n",
       "    </tr>\n",
       "  </thead>\n",
       "  <tbody>\n",
       "    <tr>\n",
       "      <th>0</th>\n",
       "      <td>32.985763</td>\n",
       "      <td>Jurassic World</td>\n",
       "      <td>Colin Trevorrow</td>\n",
       "      <td>124</td>\n",
       "      <td>Action|Adventure|Science Fiction|Thriller</td>\n",
       "      <td>5562</td>\n",
       "      <td>6.5</td>\n",
       "      <td>1.379999e+08</td>\n",
       "      <td>1.392446e+09</td>\n",
       "    </tr>\n",
       "    <tr>\n",
       "      <th>1</th>\n",
       "      <td>28.419936</td>\n",
       "      <td>Mad Max: Fury Road</td>\n",
       "      <td>George Miller</td>\n",
       "      <td>120</td>\n",
       "      <td>Action|Adventure|Science Fiction|Thriller</td>\n",
       "      <td>6185</td>\n",
       "      <td>7.1</td>\n",
       "      <td>1.379999e+08</td>\n",
       "      <td>3.481613e+08</td>\n",
       "    </tr>\n",
       "    <tr>\n",
       "      <th>2</th>\n",
       "      <td>13.112507</td>\n",
       "      <td>Insurgent</td>\n",
       "      <td>Robert Schwentke</td>\n",
       "      <td>119</td>\n",
       "      <td>Adventure|Science Fiction|Thriller</td>\n",
       "      <td>2480</td>\n",
       "      <td>6.3</td>\n",
       "      <td>1.012000e+08</td>\n",
       "      <td>2.716190e+08</td>\n",
       "    </tr>\n",
       "    <tr>\n",
       "      <th>3</th>\n",
       "      <td>11.173104</td>\n",
       "      <td>Star Wars: The Force Awakens</td>\n",
       "      <td>J.J. Abrams</td>\n",
       "      <td>136</td>\n",
       "      <td>Action|Adventure|Science Fiction|Fantasy</td>\n",
       "      <td>5292</td>\n",
       "      <td>7.5</td>\n",
       "      <td>1.839999e+08</td>\n",
       "      <td>1.902723e+09</td>\n",
       "    </tr>\n",
       "    <tr>\n",
       "      <th>4</th>\n",
       "      <td>9.335014</td>\n",
       "      <td>Furious 7</td>\n",
       "      <td>James Wan</td>\n",
       "      <td>137</td>\n",
       "      <td>Action|Crime|Thriller</td>\n",
       "      <td>2947</td>\n",
       "      <td>7.3</td>\n",
       "      <td>1.747999e+08</td>\n",
       "      <td>1.385749e+09</td>\n",
       "    </tr>\n",
       "  </tbody>\n",
       "</table>\n",
       "</div>"
      ],
      "text/plain": [
       "   popularity                original_title          director  runtime  \\\n",
       "0   32.985763                Jurassic World   Colin Trevorrow      124   \n",
       "1   28.419936            Mad Max: Fury Road     George Miller      120   \n",
       "2   13.112507                     Insurgent  Robert Schwentke      119   \n",
       "3   11.173104  Star Wars: The Force Awakens       J.J. Abrams      136   \n",
       "4    9.335014                     Furious 7         James Wan      137   \n",
       "\n",
       "                                      genres  vote_count  vote_average  \\\n",
       "0  Action|Adventure|Science Fiction|Thriller        5562           6.5   \n",
       "1  Action|Adventure|Science Fiction|Thriller        6185           7.1   \n",
       "2         Adventure|Science Fiction|Thriller        2480           6.3   \n",
       "3   Action|Adventure|Science Fiction|Fantasy        5292           7.5   \n",
       "4                      Action|Crime|Thriller        2947           7.3   \n",
       "\n",
       "     budget_adj   revenue_adj  \n",
       "0  1.379999e+08  1.392446e+09  \n",
       "1  1.379999e+08  3.481613e+08  \n",
       "2  1.012000e+08  2.716190e+08  \n",
       "3  1.839999e+08  1.902723e+09  \n",
       "4  1.747999e+08  1.385749e+09  "
      ]
     },
     "execution_count": 8,
     "metadata": {},
     "output_type": "execute_result"
    }
   ],
   "source": [
    "small_tmdb.head()"
   ]
  },
  {
   "cell_type": "code",
   "execution_count": 9,
   "metadata": {},
   "outputs": [
    {
     "data": {
      "text/plain": [
       "popularity         0\n",
       "original_title     0\n",
       "director          44\n",
       "runtime            0\n",
       "genres            23\n",
       "vote_count         0\n",
       "vote_average       0\n",
       "budget_adj         0\n",
       "revenue_adj        0\n",
       "dtype: int64"
      ]
     },
     "execution_count": 9,
     "metadata": {},
     "output_type": "execute_result"
    }
   ],
   "source": [
    "small_tmdb.isna().sum()"
   ]
  },
  {
   "cell_type": "markdown",
   "metadata": {},
   "source": [
    "Let us explore the data where the director info is missing. "
   ]
  },
  {
   "cell_type": "code",
   "execution_count": 10,
   "metadata": {
    "scrolled": false
   },
   "outputs": [
    {
     "data": {
      "text/html": [
       "<div>\n",
       "<style scoped>\n",
       "    .dataframe tbody tr th:only-of-type {\n",
       "        vertical-align: middle;\n",
       "    }\n",
       "\n",
       "    .dataframe tbody tr th {\n",
       "        vertical-align: top;\n",
       "    }\n",
       "\n",
       "    .dataframe thead th {\n",
       "        text-align: right;\n",
       "    }\n",
       "</style>\n",
       "<table border=\"1\" class=\"dataframe\">\n",
       "  <thead>\n",
       "    <tr style=\"text-align: right;\">\n",
       "      <th></th>\n",
       "      <th>popularity</th>\n",
       "      <th>original_title</th>\n",
       "      <th>director</th>\n",
       "      <th>runtime</th>\n",
       "      <th>genres</th>\n",
       "      <th>vote_count</th>\n",
       "      <th>vote_average</th>\n",
       "      <th>budget_adj</th>\n",
       "      <th>revenue_adj</th>\n",
       "    </tr>\n",
       "  </thead>\n",
       "  <tbody>\n",
       "    <tr>\n",
       "      <th>532</th>\n",
       "      <td>0.126594</td>\n",
       "      <td>Iliza Shlesinger: Freezing Hot</td>\n",
       "      <td>NaN</td>\n",
       "      <td>71</td>\n",
       "      <td>Comedy</td>\n",
       "      <td>14</td>\n",
       "      <td>6.6</td>\n",
       "      <td>0.000000e+00</td>\n",
       "      <td>0.000000e+00</td>\n",
       "    </tr>\n",
       "    <tr>\n",
       "      <th>548</th>\n",
       "      <td>0.108072</td>\n",
       "      <td>Sense8: Creating the World</td>\n",
       "      <td>NaN</td>\n",
       "      <td>25</td>\n",
       "      <td>Documentary|Science Fiction</td>\n",
       "      <td>12</td>\n",
       "      <td>7.5</td>\n",
       "      <td>0.000000e+00</td>\n",
       "      <td>0.000000e+00</td>\n",
       "    </tr>\n",
       "    <tr>\n",
       "      <th>556</th>\n",
       "      <td>0.100910</td>\n",
       "      <td>With This Ring</td>\n",
       "      <td>NaN</td>\n",
       "      <td>105</td>\n",
       "      <td>Comedy|Romance</td>\n",
       "      <td>14</td>\n",
       "      <td>6.5</td>\n",
       "      <td>0.000000e+00</td>\n",
       "      <td>0.000000e+00</td>\n",
       "    </tr>\n",
       "    <tr>\n",
       "      <th>1032</th>\n",
       "      <td>0.291253</td>\n",
       "      <td>Marvel Studios: Assembling a Universe</td>\n",
       "      <td>NaN</td>\n",
       "      <td>43</td>\n",
       "      <td>TV Movie|Documentary</td>\n",
       "      <td>32</td>\n",
       "      <td>6.3</td>\n",
       "      <td>0.000000e+00</td>\n",
       "      <td>0.000000e+00</td>\n",
       "    </tr>\n",
       "    <tr>\n",
       "      <th>1054</th>\n",
       "      <td>0.269468</td>\n",
       "      <td>Unlocking Sherlock</td>\n",
       "      <td>NaN</td>\n",
       "      <td>60</td>\n",
       "      <td>TV Movie|Documentary</td>\n",
       "      <td>11</td>\n",
       "      <td>7.2</td>\n",
       "      <td>0.000000e+00</td>\n",
       "      <td>0.000000e+00</td>\n",
       "    </tr>\n",
       "    <tr>\n",
       "      <th>1203</th>\n",
       "      <td>0.119891</td>\n",
       "      <td>Free to Play</td>\n",
       "      <td>NaN</td>\n",
       "      <td>75</td>\n",
       "      <td>Documentary</td>\n",
       "      <td>40</td>\n",
       "      <td>7.0</td>\n",
       "      <td>1.381637e+05</td>\n",
       "      <td>0.000000e+00</td>\n",
       "    </tr>\n",
       "    <tr>\n",
       "      <th>1241</th>\n",
       "      <td>0.135376</td>\n",
       "      <td>Dance-Off</td>\n",
       "      <td>NaN</td>\n",
       "      <td>0</td>\n",
       "      <td>Romance|Music|Comedy</td>\n",
       "      <td>18</td>\n",
       "      <td>5.7</td>\n",
       "      <td>0.000000e+00</td>\n",
       "      <td>0.000000e+00</td>\n",
       "    </tr>\n",
       "    <tr>\n",
       "      <th>1288</th>\n",
       "      <td>0.038364</td>\n",
       "      <td>Top Gear: The Perfect Road Trip 2</td>\n",
       "      <td>NaN</td>\n",
       "      <td>94</td>\n",
       "      <td>Documentary</td>\n",
       "      <td>12</td>\n",
       "      <td>6.8</td>\n",
       "      <td>0.000000e+00</td>\n",
       "      <td>0.000000e+00</td>\n",
       "    </tr>\n",
       "    <tr>\n",
       "      <th>1852</th>\n",
       "      <td>0.256703</td>\n",
       "      <td>The Diary of Anne Frank</td>\n",
       "      <td>NaN</td>\n",
       "      <td>100</td>\n",
       "      <td>Drama</td>\n",
       "      <td>19</td>\n",
       "      <td>7.5</td>\n",
       "      <td>0.000000e+00</td>\n",
       "      <td>0.000000e+00</td>\n",
       "    </tr>\n",
       "    <tr>\n",
       "      <th>1872</th>\n",
       "      <td>0.091395</td>\n",
       "      <td>Paa</td>\n",
       "      <td>NaN</td>\n",
       "      <td>133</td>\n",
       "      <td>Drama|Family|Foreign</td>\n",
       "      <td>11</td>\n",
       "      <td>6.1</td>\n",
       "      <td>3.303301e+06</td>\n",
       "      <td>0.000000e+00</td>\n",
       "    </tr>\n",
       "    <tr>\n",
       "      <th>1895</th>\n",
       "      <td>0.056777</td>\n",
       "      <td>Doctor Who: The Waters of Mars</td>\n",
       "      <td>NaN</td>\n",
       "      <td>62</td>\n",
       "      <td>Science Fiction|Adventure|Family</td>\n",
       "      <td>25</td>\n",
       "      <td>8.0</td>\n",
       "      <td>0.000000e+00</td>\n",
       "      <td>0.000000e+00</td>\n",
       "    </tr>\n",
       "    <tr>\n",
       "      <th>2221</th>\n",
       "      <td>0.281852</td>\n",
       "      <td>Scott Pilgrim vs. the Animation</td>\n",
       "      <td>NaN</td>\n",
       "      <td>4</td>\n",
       "      <td>TV Movie|Animation|Adventure</td>\n",
       "      <td>19</td>\n",
       "      <td>7.7</td>\n",
       "      <td>0.000000e+00</td>\n",
       "      <td>0.000000e+00</td>\n",
       "    </tr>\n",
       "    <tr>\n",
       "      <th>2286</th>\n",
       "      <td>0.207234</td>\n",
       "      <td>Bo Burnham: Words, Words, Words</td>\n",
       "      <td>NaN</td>\n",
       "      <td>63</td>\n",
       "      <td>Comedy</td>\n",
       "      <td>13</td>\n",
       "      <td>6.5</td>\n",
       "      <td>0.000000e+00</td>\n",
       "      <td>0.000000e+00</td>\n",
       "    </tr>\n",
       "    <tr>\n",
       "      <th>2290</th>\n",
       "      <td>0.203502</td>\n",
       "      <td>Across the Line: The Exodus of Charlie Wright</td>\n",
       "      <td>NaN</td>\n",
       "      <td>94</td>\n",
       "      <td>Drama|Action|Thriller|Crime</td>\n",
       "      <td>11</td>\n",
       "      <td>6.0</td>\n",
       "      <td>0.000000e+00</td>\n",
       "      <td>0.000000e+00</td>\n",
       "    </tr>\n",
       "    <tr>\n",
       "      <th>2315</th>\n",
       "      <td>0.171615</td>\n",
       "      <td>Listen to Your Heart</td>\n",
       "      <td>NaN</td>\n",
       "      <td>0</td>\n",
       "      <td>Drama|Music|Romance</td>\n",
       "      <td>29</td>\n",
       "      <td>7.3</td>\n",
       "      <td>0.000000e+00</td>\n",
       "      <td>0.000000e+00</td>\n",
       "    </tr>\n",
       "    <tr>\n",
       "      <th>2318</th>\n",
       "      <td>0.170408</td>\n",
       "      <td>Barbie in A Mermaid Tale</td>\n",
       "      <td>NaN</td>\n",
       "      <td>75</td>\n",
       "      <td>Animation|Family|Fantasy</td>\n",
       "      <td>35</td>\n",
       "      <td>6.3</td>\n",
       "      <td>0.000000e+00</td>\n",
       "      <td>0.000000e+00</td>\n",
       "    </tr>\n",
       "    <tr>\n",
       "      <th>2376</th>\n",
       "      <td>0.068411</td>\n",
       "      <td>Doctor Who: A Christmas Carol</td>\n",
       "      <td>NaN</td>\n",
       "      <td>62</td>\n",
       "      <td>NaN</td>\n",
       "      <td>11</td>\n",
       "      <td>7.7</td>\n",
       "      <td>0.000000e+00</td>\n",
       "      <td>0.000000e+00</td>\n",
       "    </tr>\n",
       "    <tr>\n",
       "      <th>2397</th>\n",
       "      <td>0.033048</td>\n",
       "      <td>The Making of The Walking Dead</td>\n",
       "      <td>NaN</td>\n",
       "      <td>30</td>\n",
       "      <td>Documentary</td>\n",
       "      <td>42</td>\n",
       "      <td>8.4</td>\n",
       "      <td>0.000000e+00</td>\n",
       "      <td>0.000000e+00</td>\n",
       "    </tr>\n",
       "    <tr>\n",
       "      <th>2401</th>\n",
       "      <td>0.067753</td>\n",
       "      <td>Opeth: In Live Concert At The Royal Albert Hall</td>\n",
       "      <td>NaN</td>\n",
       "      <td>163</td>\n",
       "      <td>Music</td>\n",
       "      <td>10</td>\n",
       "      <td>8.6</td>\n",
       "      <td>0.000000e+00</td>\n",
       "      <td>0.000000e+00</td>\n",
       "    </tr>\n",
       "    <tr>\n",
       "      <th>2403</th>\n",
       "      <td>0.067620</td>\n",
       "      <td>Yu-Gi-Oh! 3D: Bonds Beyond Time</td>\n",
       "      <td>NaN</td>\n",
       "      <td>60</td>\n",
       "      <td>Animation|Fantasy</td>\n",
       "      <td>10</td>\n",
       "      <td>6.0</td>\n",
       "      <td>0.000000e+00</td>\n",
       "      <td>0.000000e+00</td>\n",
       "    </tr>\n",
       "    <tr>\n",
       "      <th>3171</th>\n",
       "      <td>0.019819</td>\n",
       "      <td>The Assassination of Jesse James: Death Of An ...</td>\n",
       "      <td>NaN</td>\n",
       "      <td>32</td>\n",
       "      <td>Documentary</td>\n",
       "      <td>20</td>\n",
       "      <td>6.8</td>\n",
       "      <td>0.000000e+00</td>\n",
       "      <td>0.000000e+00</td>\n",
       "    </tr>\n",
       "    <tr>\n",
       "      <th>3224</th>\n",
       "      <td>0.224721</td>\n",
       "      <td>John Mayer: Where the Light Is Live in Los Ang...</td>\n",
       "      <td>NaN</td>\n",
       "      <td>164</td>\n",
       "      <td>Music</td>\n",
       "      <td>16</td>\n",
       "      <td>8.5</td>\n",
       "      <td>0.000000e+00</td>\n",
       "      <td>0.000000e+00</td>\n",
       "    </tr>\n",
       "    <tr>\n",
       "      <th>3276</th>\n",
       "      <td>0.147657</td>\n",
       "      <td>Kismat Konnection</td>\n",
       "      <td>NaN</td>\n",
       "      <td>153</td>\n",
       "      <td>Drama|Comedy|Romance|Foreign</td>\n",
       "      <td>11</td>\n",
       "      <td>5.8</td>\n",
       "      <td>4.233448e+06</td>\n",
       "      <td>1.114065e+07</td>\n",
       "    </tr>\n",
       "    <tr>\n",
       "      <th>3285</th>\n",
       "      <td>0.136883</td>\n",
       "      <td>Tropic Thunder: Rain of Madness</td>\n",
       "      <td>NaN</td>\n",
       "      <td>30</td>\n",
       "      <td>Action|Comedy</td>\n",
       "      <td>12</td>\n",
       "      <td>6.9</td>\n",
       "      <td>0.000000e+00</td>\n",
       "      <td>0.000000e+00</td>\n",
       "    </tr>\n",
       "    <tr>\n",
       "      <th>3357</th>\n",
       "      <td>0.042517</td>\n",
       "      <td>Bill Burr: Why Do I Do This?</td>\n",
       "      <td>NaN</td>\n",
       "      <td>55</td>\n",
       "      <td>Comedy</td>\n",
       "      <td>10</td>\n",
       "      <td>8.0</td>\n",
       "      <td>0.000000e+00</td>\n",
       "      <td>0.000000e+00</td>\n",
       "    </tr>\n",
       "    <tr>\n",
       "      <th>3365</th>\n",
       "      <td>0.002475</td>\n",
       "      <td>Foo Fighters: Live at Wembley Stadium</td>\n",
       "      <td>NaN</td>\n",
       "      <td>120</td>\n",
       "      <td>Music</td>\n",
       "      <td>10</td>\n",
       "      <td>8.4</td>\n",
       "      <td>0.000000e+00</td>\n",
       "      <td>0.000000e+00</td>\n",
       "    </tr>\n",
       "    <tr>\n",
       "      <th>3369</th>\n",
       "      <td>0.001682</td>\n",
       "      <td>Wizards On Deck With Hannah Montana</td>\n",
       "      <td>NaN</td>\n",
       "      <td>68</td>\n",
       "      <td>Family</td>\n",
       "      <td>14</td>\n",
       "      <td>6.1</td>\n",
       "      <td>0.000000e+00</td>\n",
       "      <td>0.000000e+00</td>\n",
       "    </tr>\n",
       "    <tr>\n",
       "      <th>3910</th>\n",
       "      <td>0.002006</td>\n",
       "      <td>Steve Jobs: One Last Thing</td>\n",
       "      <td>NaN</td>\n",
       "      <td>60</td>\n",
       "      <td>Documentary</td>\n",
       "      <td>11</td>\n",
       "      <td>6.6</td>\n",
       "      <td>0.000000e+00</td>\n",
       "      <td>0.000000e+00</td>\n",
       "    </tr>\n",
       "    <tr>\n",
       "      <th>4679</th>\n",
       "      <td>0.421746</td>\n",
       "      <td>Barbie in A Mermaid Tale 2</td>\n",
       "      <td>NaN</td>\n",
       "      <td>74</td>\n",
       "      <td>Animation|Family</td>\n",
       "      <td>22</td>\n",
       "      <td>6.0</td>\n",
       "      <td>0.000000e+00</td>\n",
       "      <td>0.000000e+00</td>\n",
       "    </tr>\n",
       "    <tr>\n",
       "      <th>4797</th>\n",
       "      <td>0.167501</td>\n",
       "      <td>Doctor Who: The Snowmen</td>\n",
       "      <td>NaN</td>\n",
       "      <td>60</td>\n",
       "      <td>NaN</td>\n",
       "      <td>10</td>\n",
       "      <td>7.8</td>\n",
       "      <td>0.000000e+00</td>\n",
       "      <td>0.000000e+00</td>\n",
       "    </tr>\n",
       "    <tr>\n",
       "      <th>4872</th>\n",
       "      <td>0.090552</td>\n",
       "      <td>Party Bercy</td>\n",
       "      <td>NaN</td>\n",
       "      <td>120</td>\n",
       "      <td>Comedy</td>\n",
       "      <td>15</td>\n",
       "      <td>6.4</td>\n",
       "      <td>0.000000e+00</td>\n",
       "      <td>0.000000e+00</td>\n",
       "    </tr>\n",
       "    <tr>\n",
       "      <th>4939</th>\n",
       "      <td>0.003183</td>\n",
       "      <td>The Men Who Built America</td>\n",
       "      <td>NaN</td>\n",
       "      <td>360</td>\n",
       "      <td>Documentary|History</td>\n",
       "      <td>11</td>\n",
       "      <td>5.3</td>\n",
       "      <td>0.000000e+00</td>\n",
       "      <td>0.000000e+00</td>\n",
       "    </tr>\n",
       "    <tr>\n",
       "      <th>5413</th>\n",
       "      <td>0.324270</td>\n",
       "      <td>The Brave Little Toaster to the Rescue</td>\n",
       "      <td>NaN</td>\n",
       "      <td>74</td>\n",
       "      <td>Animation|Comedy|Family</td>\n",
       "      <td>11</td>\n",
       "      <td>7.0</td>\n",
       "      <td>0.000000e+00</td>\n",
       "      <td>0.000000e+00</td>\n",
       "    </tr>\n",
       "    <tr>\n",
       "      <th>5866</th>\n",
       "      <td>0.211825</td>\n",
       "      <td>Jinxed</td>\n",
       "      <td>NaN</td>\n",
       "      <td>75</td>\n",
       "      <td>Family|Fantasy|Comedy</td>\n",
       "      <td>19</td>\n",
       "      <td>7.0</td>\n",
       "      <td>4.680167e+06</td>\n",
       "      <td>0.000000e+00</td>\n",
       "    </tr>\n",
       "    <tr>\n",
       "      <th>5915</th>\n",
       "      <td>0.168210</td>\n",
       "      <td>Phineas and Ferb: Mission Marvel</td>\n",
       "      <td>NaN</td>\n",
       "      <td>44</td>\n",
       "      <td>Action|Adventure|Science Fiction</td>\n",
       "      <td>13</td>\n",
       "      <td>5.9</td>\n",
       "      <td>0.000000e+00</td>\n",
       "      <td>0.000000e+00</td>\n",
       "    </tr>\n",
       "    <tr>\n",
       "      <th>5972</th>\n",
       "      <td>0.165605</td>\n",
       "      <td>Top Gear: The Perfect Road Trip</td>\n",
       "      <td>NaN</td>\n",
       "      <td>84</td>\n",
       "      <td>TV Movie|Action|Adventure|Documentary</td>\n",
       "      <td>35</td>\n",
       "      <td>7.6</td>\n",
       "      <td>0.000000e+00</td>\n",
       "      <td>0.000000e+00</td>\n",
       "    </tr>\n",
       "    <tr>\n",
       "      <th>6033</th>\n",
       "      <td>0.048587</td>\n",
       "      <td>Russell Brand: Messiah Complex</td>\n",
       "      <td>NaN</td>\n",
       "      <td>99</td>\n",
       "      <td>Comedy</td>\n",
       "      <td>12</td>\n",
       "      <td>6.8</td>\n",
       "      <td>0.000000e+00</td>\n",
       "      <td>0.000000e+00</td>\n",
       "    </tr>\n",
       "    <tr>\n",
       "      <th>6181</th>\n",
       "      <td>0.000065</td>\n",
       "      <td>North and South, Book I</td>\n",
       "      <td>NaN</td>\n",
       "      <td>561</td>\n",
       "      <td>Drama|History|Western</td>\n",
       "      <td>17</td>\n",
       "      <td>6.0</td>\n",
       "      <td>0.000000e+00</td>\n",
       "      <td>0.000000e+00</td>\n",
       "    </tr>\n",
       "    <tr>\n",
       "      <th>7579</th>\n",
       "      <td>0.443952</td>\n",
       "      <td>La hora frÃ­a</td>\n",
       "      <td>NaN</td>\n",
       "      <td>92</td>\n",
       "      <td>Horror|Thriller|Science Fiction|Mystery|Foreign</td>\n",
       "      <td>10</td>\n",
       "      <td>4.9</td>\n",
       "      <td>0.000000e+00</td>\n",
       "      <td>0.000000e+00</td>\n",
       "    </tr>\n",
       "    <tr>\n",
       "      <th>7767</th>\n",
       "      <td>0.126603</td>\n",
       "      <td>Doctor Who: The Runaway Bride</td>\n",
       "      <td>NaN</td>\n",
       "      <td>60</td>\n",
       "      <td>Science Fiction|TV Movie</td>\n",
       "      <td>18</td>\n",
       "      <td>7.6</td>\n",
       "      <td>0.000000e+00</td>\n",
       "      <td>0.000000e+00</td>\n",
       "    </tr>\n",
       "    <tr>\n",
       "      <th>7814</th>\n",
       "      <td>0.040311</td>\n",
       "      <td>Transformers: Beginnings</td>\n",
       "      <td>NaN</td>\n",
       "      <td>22</td>\n",
       "      <td>Animation|Action|Thriller|Science Fiction</td>\n",
       "      <td>34</td>\n",
       "      <td>5.8</td>\n",
       "      <td>0.000000e+00</td>\n",
       "      <td>0.000000e+00</td>\n",
       "    </tr>\n",
       "    <tr>\n",
       "      <th>9593</th>\n",
       "      <td>0.001662</td>\n",
       "      <td>Peter Pan</td>\n",
       "      <td>NaN</td>\n",
       "      <td>52</td>\n",
       "      <td>Action|Adventure|Animation|Family|Fantasy</td>\n",
       "      <td>28</td>\n",
       "      <td>6.6</td>\n",
       "      <td>0.000000e+00</td>\n",
       "      <td>0.000000e+00</td>\n",
       "    </tr>\n",
       "    <tr>\n",
       "      <th>10386</th>\n",
       "      <td>0.118854</td>\n",
       "      <td>The Making of 'The Nightmare Before Christmas'</td>\n",
       "      <td>NaN</td>\n",
       "      <td>25</td>\n",
       "      <td>Documentary</td>\n",
       "      <td>15</td>\n",
       "      <td>7.5</td>\n",
       "      <td>0.000000e+00</td>\n",
       "      <td>0.000000e+00</td>\n",
       "    </tr>\n",
       "    <tr>\n",
       "      <th>10426</th>\n",
       "      <td>0.114034</td>\n",
       "      <td>Magical Mystery Tour</td>\n",
       "      <td>NaN</td>\n",
       "      <td>55</td>\n",
       "      <td>Music</td>\n",
       "      <td>15</td>\n",
       "      <td>5.8</td>\n",
       "      <td>0.000000e+00</td>\n",
       "      <td>0.000000e+00</td>\n",
       "    </tr>\n",
       "  </tbody>\n",
       "</table>\n",
       "</div>"
      ],
      "text/plain": [
       "       popularity                                     original_title director  \\\n",
       "532      0.126594                     Iliza Shlesinger: Freezing Hot      NaN   \n",
       "548      0.108072                         Sense8: Creating the World      NaN   \n",
       "556      0.100910                                     With This Ring      NaN   \n",
       "1032     0.291253              Marvel Studios: Assembling a Universe      NaN   \n",
       "1054     0.269468                                 Unlocking Sherlock      NaN   \n",
       "1203     0.119891                                       Free to Play      NaN   \n",
       "1241     0.135376                                          Dance-Off      NaN   \n",
       "1288     0.038364                  Top Gear: The Perfect Road Trip 2      NaN   \n",
       "1852     0.256703                            The Diary of Anne Frank      NaN   \n",
       "1872     0.091395                                                Paa      NaN   \n",
       "1895     0.056777                     Doctor Who: The Waters of Mars      NaN   \n",
       "2221     0.281852                    Scott Pilgrim vs. the Animation      NaN   \n",
       "2286     0.207234                    Bo Burnham: Words, Words, Words      NaN   \n",
       "2290     0.203502      Across the Line: The Exodus of Charlie Wright      NaN   \n",
       "2315     0.171615                               Listen to Your Heart      NaN   \n",
       "2318     0.170408                           Barbie in A Mermaid Tale      NaN   \n",
       "2376     0.068411                      Doctor Who: A Christmas Carol      NaN   \n",
       "2397     0.033048                     The Making of The Walking Dead      NaN   \n",
       "2401     0.067753    Opeth: In Live Concert At The Royal Albert Hall      NaN   \n",
       "2403     0.067620                    Yu-Gi-Oh! 3D: Bonds Beyond Time      NaN   \n",
       "3171     0.019819  The Assassination of Jesse James: Death Of An ...      NaN   \n",
       "3224     0.224721  John Mayer: Where the Light Is Live in Los Ang...      NaN   \n",
       "3276     0.147657                                  Kismat Konnection      NaN   \n",
       "3285     0.136883                    Tropic Thunder: Rain of Madness      NaN   \n",
       "3357     0.042517                       Bill Burr: Why Do I Do This?      NaN   \n",
       "3365     0.002475              Foo Fighters: Live at Wembley Stadium      NaN   \n",
       "3369     0.001682                Wizards On Deck With Hannah Montana      NaN   \n",
       "3910     0.002006                         Steve Jobs: One Last Thing      NaN   \n",
       "4679     0.421746                         Barbie in A Mermaid Tale 2      NaN   \n",
       "4797     0.167501                            Doctor Who: The Snowmen      NaN   \n",
       "4872     0.090552                                        Party Bercy      NaN   \n",
       "4939     0.003183                          The Men Who Built America      NaN   \n",
       "5413     0.324270             The Brave Little Toaster to the Rescue      NaN   \n",
       "5866     0.211825                                             Jinxed      NaN   \n",
       "5915     0.168210                   Phineas and Ferb: Mission Marvel      NaN   \n",
       "5972     0.165605                    Top Gear: The Perfect Road Trip      NaN   \n",
       "6033     0.048587                     Russell Brand: Messiah Complex      NaN   \n",
       "6181     0.000065                            North and South, Book I      NaN   \n",
       "7579     0.443952                                      La hora frÃ­a      NaN   \n",
       "7767     0.126603                      Doctor Who: The Runaway Bride      NaN   \n",
       "7814     0.040311                           Transformers: Beginnings      NaN   \n",
       "9593     0.001662                                          Peter Pan      NaN   \n",
       "10386    0.118854     The Making of 'The Nightmare Before Christmas'      NaN   \n",
       "10426    0.114034                               Magical Mystery Tour      NaN   \n",
       "\n",
       "       runtime                                           genres  vote_count  \\\n",
       "532         71                                           Comedy          14   \n",
       "548         25                      Documentary|Science Fiction          12   \n",
       "556        105                                   Comedy|Romance          14   \n",
       "1032        43                             TV Movie|Documentary          32   \n",
       "1054        60                             TV Movie|Documentary          11   \n",
       "1203        75                                      Documentary          40   \n",
       "1241         0                             Romance|Music|Comedy          18   \n",
       "1288        94                                      Documentary          12   \n",
       "1852       100                                            Drama          19   \n",
       "1872       133                             Drama|Family|Foreign          11   \n",
       "1895        62                 Science Fiction|Adventure|Family          25   \n",
       "2221         4                     TV Movie|Animation|Adventure          19   \n",
       "2286        63                                           Comedy          13   \n",
       "2290        94                      Drama|Action|Thriller|Crime          11   \n",
       "2315         0                              Drama|Music|Romance          29   \n",
       "2318        75                         Animation|Family|Fantasy          35   \n",
       "2376        62                                              NaN          11   \n",
       "2397        30                                      Documentary          42   \n",
       "2401       163                                            Music          10   \n",
       "2403        60                                Animation|Fantasy          10   \n",
       "3171        32                                      Documentary          20   \n",
       "3224       164                                            Music          16   \n",
       "3276       153                     Drama|Comedy|Romance|Foreign          11   \n",
       "3285        30                                    Action|Comedy          12   \n",
       "3357        55                                           Comedy          10   \n",
       "3365       120                                            Music          10   \n",
       "3369        68                                           Family          14   \n",
       "3910        60                                      Documentary          11   \n",
       "4679        74                                 Animation|Family          22   \n",
       "4797        60                                              NaN          10   \n",
       "4872       120                                           Comedy          15   \n",
       "4939       360                              Documentary|History          11   \n",
       "5413        74                          Animation|Comedy|Family          11   \n",
       "5866        75                            Family|Fantasy|Comedy          19   \n",
       "5915        44                 Action|Adventure|Science Fiction          13   \n",
       "5972        84            TV Movie|Action|Adventure|Documentary          35   \n",
       "6033        99                                           Comedy          12   \n",
       "6181       561                            Drama|History|Western          17   \n",
       "7579        92  Horror|Thriller|Science Fiction|Mystery|Foreign          10   \n",
       "7767        60                         Science Fiction|TV Movie          18   \n",
       "7814        22        Animation|Action|Thriller|Science Fiction          34   \n",
       "9593        52        Action|Adventure|Animation|Family|Fantasy          28   \n",
       "10386       25                                      Documentary          15   \n",
       "10426       55                                            Music          15   \n",
       "\n",
       "       vote_average    budget_adj   revenue_adj  \n",
       "532             6.6  0.000000e+00  0.000000e+00  \n",
       "548             7.5  0.000000e+00  0.000000e+00  \n",
       "556             6.5  0.000000e+00  0.000000e+00  \n",
       "1032            6.3  0.000000e+00  0.000000e+00  \n",
       "1054            7.2  0.000000e+00  0.000000e+00  \n",
       "1203            7.0  1.381637e+05  0.000000e+00  \n",
       "1241            5.7  0.000000e+00  0.000000e+00  \n",
       "1288            6.8  0.000000e+00  0.000000e+00  \n",
       "1852            7.5  0.000000e+00  0.000000e+00  \n",
       "1872            6.1  3.303301e+06  0.000000e+00  \n",
       "1895            8.0  0.000000e+00  0.000000e+00  \n",
       "2221            7.7  0.000000e+00  0.000000e+00  \n",
       "2286            6.5  0.000000e+00  0.000000e+00  \n",
       "2290            6.0  0.000000e+00  0.000000e+00  \n",
       "2315            7.3  0.000000e+00  0.000000e+00  \n",
       "2318            6.3  0.000000e+00  0.000000e+00  \n",
       "2376            7.7  0.000000e+00  0.000000e+00  \n",
       "2397            8.4  0.000000e+00  0.000000e+00  \n",
       "2401            8.6  0.000000e+00  0.000000e+00  \n",
       "2403            6.0  0.000000e+00  0.000000e+00  \n",
       "3171            6.8  0.000000e+00  0.000000e+00  \n",
       "3224            8.5  0.000000e+00  0.000000e+00  \n",
       "3276            5.8  4.233448e+06  1.114065e+07  \n",
       "3285            6.9  0.000000e+00  0.000000e+00  \n",
       "3357            8.0  0.000000e+00  0.000000e+00  \n",
       "3365            8.4  0.000000e+00  0.000000e+00  \n",
       "3369            6.1  0.000000e+00  0.000000e+00  \n",
       "3910            6.6  0.000000e+00  0.000000e+00  \n",
       "4679            6.0  0.000000e+00  0.000000e+00  \n",
       "4797            7.8  0.000000e+00  0.000000e+00  \n",
       "4872            6.4  0.000000e+00  0.000000e+00  \n",
       "4939            5.3  0.000000e+00  0.000000e+00  \n",
       "5413            7.0  0.000000e+00  0.000000e+00  \n",
       "5866            7.0  4.680167e+06  0.000000e+00  \n",
       "5915            5.9  0.000000e+00  0.000000e+00  \n",
       "5972            7.6  0.000000e+00  0.000000e+00  \n",
       "6033            6.8  0.000000e+00  0.000000e+00  \n",
       "6181            6.0  0.000000e+00  0.000000e+00  \n",
       "7579            4.9  0.000000e+00  0.000000e+00  \n",
       "7767            7.6  0.000000e+00  0.000000e+00  \n",
       "7814            5.8  0.000000e+00  0.000000e+00  \n",
       "9593            6.6  0.000000e+00  0.000000e+00  \n",
       "10386           7.5  0.000000e+00  0.000000e+00  \n",
       "10426           5.8  0.000000e+00  0.000000e+00  "
      ]
     },
     "execution_count": 10,
     "metadata": {},
     "output_type": "execute_result"
    }
   ],
   "source": [
    "small_tmdb[small_tmdb.director.isna()]"
   ]
  },
  {
   "cell_type": "markdown",
   "metadata": {},
   "source": [
    "As we can see from the table, most of the data where the director is missing the adjusted revenue is 0. "
   ]
  },
  {
   "cell_type": "markdown",
   "metadata": {},
   "source": [
    "Before we proceed with more analysis with the adjusted revenue, we will need to understand the distribution of the revenue. "
   ]
  },
  {
   "cell_type": "code",
   "execution_count": 11,
   "metadata": {},
   "outputs": [
    {
     "name": "stderr",
     "output_type": "stream",
     "text": [
      "C:\\Users\\luicy\\Anaconda3\\lib\\site-packages\\scipy\\stats\\stats.py:1713: FutureWarning: Using a non-tuple sequence for multidimensional indexing is deprecated; use `arr[tuple(seq)]` instead of `arr[seq]`. In the future this will be interpreted as an array index, `arr[np.array(seq)]`, which will result either in an error or a different result.\n",
      "  return np.add.reduce(sorted[indexer] * weights, axis=axis) / sumval\n"
     ]
    },
    {
     "data": {
      "text/plain": [
       "<matplotlib.axes._subplots.AxesSubplot at 0x1ee87fe7588>"
      ]
     },
     "execution_count": 11,
     "metadata": {},
     "output_type": "execute_result"
    },
    {
     "data": {
      "image/png": "[encoded data removed]",
      "text/plain": [
       "<Figure size 432x288 with 1 Axes>"
      ]
     },
     "metadata": {
      "needs_background": "light"
     },
     "output_type": "display_data"
    }
   ],
   "source": [
    "sns.distplot(small_tmdb['revenue_adj'])"
   ]
  },
  {
   "cell_type": "markdown",
   "metadata": {},
   "source": [
    "Let us remove the 0 revenue movies and look at the revenue distribution again."
   ]
  },
  {
   "cell_type": "code",
   "execution_count": 12,
   "metadata": {},
   "outputs": [],
   "source": [
    "revenue_adj_log = np.log10(small_tmdb.loc[small_tmdb.revenue_adj>0,\"revenue_adj\"])"
   ]
  },
  {
   "cell_type": "code",
   "execution_count": 13,
   "metadata": {
    "scrolled": false
   },
   "outputs": [
    {
     "data": {
      "text/plain": [
       "<matplotlib.axes._subplots.AxesSubplot at 0x1ee8828f940>"
      ]
     },
     "execution_count": 13,
     "metadata": {},
     "output_type": "execute_result"
    },
    {
     "data": {
      "image/png": "[encoded data removed]",
      "text/plain": [
       "<Figure size 432x288 with 1 Axes>"
      ]
     },
     "metadata": {
      "needs_background": "light"
     },
     "output_type": "display_data"
    }
   ],
   "source": [
    "sns.distplot(revenue_adj_log)"
   ]
  },
  {
   "cell_type": "markdown",
   "metadata": {},
   "source": [
    "The above is the log10 plot of the adjusted revenue.It would make sense to change the revenue in a log 10 based value for easy visualization."
   ]
  },
  {
   "cell_type": "markdown",
   "metadata": {},
   "source": [
    "Get rid of revenue that is 0 and create a new column to store the log10 transformation of the adjusted revenue. "
   ]
  },
  {
   "cell_type": "code",
   "execution_count": 14,
   "metadata": {},
   "outputs": [],
   "source": [
    "small_tmdb['revenue_adj'] = small_tmdb['revenue_adj'].replace({0:np.nan})"
   ]
  },
  {
   "cell_type": "code",
   "execution_count": 15,
   "metadata": {},
   "outputs": [
    {
     "data": {
      "text/plain": [
       "(10866, 9)"
      ]
     },
     "execution_count": 15,
     "metadata": {},
     "output_type": "execute_result"
    }
   ],
   "source": [
    "small_tmdb.shape"
   ]
  },
  {
   "cell_type": "code",
   "execution_count": 16,
   "metadata": {},
   "outputs": [],
   "source": [
    "small_tmdb.dropna(inplace = True)"
   ]
  },
  {
   "cell_type": "code",
   "execution_count": 17,
   "metadata": {
    "scrolled": true
   },
   "outputs": [
    {
     "data": {
      "text/plain": [
       "popularity        0\n",
       "original_title    0\n",
       "director          0\n",
       "runtime           0\n",
       "genres            0\n",
       "vote_count        0\n",
       "vote_average      0\n",
       "budget_adj        0\n",
       "revenue_adj       0\n",
       "dtype: int64"
      ]
     },
     "execution_count": 17,
     "metadata": {},
     "output_type": "execute_result"
    }
   ],
   "source": [
    "small_tmdb.isna().sum()"
   ]
  },
  {
   "cell_type": "code",
   "execution_count": 18,
   "metadata": {},
   "outputs": [],
   "source": [
    "small_tmdb['log_rev_adj'] = np.log10(small_tmdb['revenue_adj'])"
   ]
  },
  {
   "cell_type": "markdown",
   "metadata": {},
   "source": [
    "log10 transform the budgets."
   ]
  },
  {
   "cell_type": "code",
   "execution_count": 19,
   "metadata": {},
   "outputs": [],
   "source": [
    "small_tmdb['budget_adj'] = small_tmdb['budget_adj'].replace(0, np.nan)\n",
    "small_tmdb['log_bug_adj'] = np.log10(small_tmdb['budget_adj'])"
   ]
  },
  {
   "cell_type": "code",
   "execution_count": 20,
   "metadata": {},
   "outputs": [
    {
     "data": {
      "text/plain": [
       "popularity          0\n",
       "original_title      0\n",
       "director            0\n",
       "runtime             0\n",
       "genres              0\n",
       "vote_count          0\n",
       "vote_average        0\n",
       "budget_adj        995\n",
       "revenue_adj         0\n",
       "log_rev_adj         0\n",
       "log_bug_adj       995\n",
       "dtype: int64"
      ]
     },
     "execution_count": 20,
     "metadata": {},
     "output_type": "execute_result"
    }
   ],
   "source": [
    "small_tmdb.isna().sum()"
   ]
  },
  {
   "cell_type": "markdown",
   "metadata": {},
   "source": [
    "## Adjusted revenue"
   ]
  },
  {
   "cell_type": "code",
   "execution_count": 21,
   "metadata": {
    "scrolled": false
   },
   "outputs": [
    {
     "data": {
      "text/plain": [
       "<matplotlib.axes._subplots.AxesSubplot at 0x1ee884ab400>"
      ]
     },
     "execution_count": 21,
     "metadata": {},
     "output_type": "execute_result"
    },
    {
     "data": {
      "image/png": "[encoded data removed]",
      "text/plain": [
       "<Figure size 432x288 with 1 Axes>"
      ]
     },
     "metadata": {
      "needs_background": "light"
     },
     "output_type": "display_data"
    }
   ],
   "source": [
    "revenue_adj_log = np.log10(small_tmdb.loc[:,\"revenue_adj\"])\n",
    "\n",
    "sns.distplot(revenue_adj_log)"
   ]
  },
  {
   "cell_type": "markdown",
   "metadata": {},
   "source": [
    "The mode of adjusted revenue is around 100 million dollars. "
   ]
  },
  {
   "cell_type": "markdown",
   "metadata": {},
   "source": [
    "## Adjusted budgets"
   ]
  },
  {
   "cell_type": "code",
   "execution_count": 22,
   "metadata": {},
   "outputs": [
    {
     "data": {
      "text/plain": [
       "<matplotlib.axes._subplots.AxesSubplot at 0x1ee885578d0>"
      ]
     },
     "execution_count": 22,
     "metadata": {},
     "output_type": "execute_result"
    },
    {
     "data": {
      "image/png": "[encoded data removed]",
      "text/plain": [
       "<Figure size 432x288 with 1 Axes>"
      ]
     },
     "metadata": {
      "needs_background": "light"
     },
     "output_type": "display_data"
    }
   ],
   "source": [
    "budget_adj_log = np.log10(small_tmdb.loc[small_tmdb.budget_adj>0,\"budget_adj\"].copy())\n",
    "\n",
    "sns.distplot(budget_adj_log)"
   ]
  },
  {
   "cell_type": "markdown",
   "metadata": {},
   "source": [
    "The mode of adjusted budgets is between 10 millions and 100 million dollars. "
   ]
  },
  {
   "cell_type": "markdown",
   "metadata": {},
   "source": [
    "## Profits"
   ]
  },
  {
   "cell_type": "markdown",
   "metadata": {},
   "source": [
    "Create the adjusted profits column. "
   ]
  },
  {
   "cell_type": "code",
   "execution_count": 23,
   "metadata": {},
   "outputs": [],
   "source": [
    "small_tmdb['profits_adj'] = small_tmdb['revenue_adj'] - small_tmdb['budget_adj']"
   ]
  },
  {
   "cell_type": "code",
   "execution_count": 24,
   "metadata": {},
   "outputs": [
    {
     "data": {
      "text/plain": [
       "<matplotlib.axes._subplots.AxesSubplot at 0x1ee886a3f28>"
      ]
     },
     "execution_count": 24,
     "metadata": {},
     "output_type": "execute_result"
    },
    {
     "data": {
      "image/png": "[encoded data removed]",
      "text/plain": [
       "<Figure size 432x288 with 1 Axes>"
      ]
     },
     "metadata": {
      "needs_background": "light"
     },
     "output_type": "display_data"
    }
   ],
   "source": [
    "profits_adj = small_tmdb.loc[small_tmdb.profits_adj.notna(),'profits_adj'].copy()\n",
    "\n",
    "sns.distplot(profits_adj )"
   ]
  },
  {
   "cell_type": "markdown",
   "metadata": {},
   "source": [
    "The majority of the movies does not make much profits (less than 500 million dollar profits). The mode of the profit is slightly bigger than 0. "
   ]
  },
  {
   "cell_type": "markdown",
   "metadata": {},
   "source": [
    "## Vote count"
   ]
  },
  {
   "cell_type": "code",
   "execution_count": 25,
   "metadata": {
    "scrolled": true
   },
   "outputs": [
    {
     "data": {
      "text/plain": [
       "<matplotlib.axes._subplots.AxesSubplot at 0x1ee887358d0>"
      ]
     },
     "execution_count": 25,
     "metadata": {},
     "output_type": "execute_result"
    },
    {
     "data": {
      "image/png": "[encoded data removed]",
      "text/plain": [
       "<Figure size 432x288 with 1 Axes>"
      ]
     },
     "metadata": {
      "needs_background": "light"
     },
     "output_type": "display_data"
    }
   ],
   "source": [
    "sns.distplot(np.log10(small_tmdb['vote_count']))"
   ]
  },
  {
   "cell_type": "markdown",
   "metadata": {},
   "source": [
    "The majority of the movies get from 10 to 10000 votes. "
   ]
  },
  {
   "cell_type": "markdown",
   "metadata": {},
   "source": [
    "## Vote average"
   ]
  },
  {
   "cell_type": "code",
   "execution_count": 26,
   "metadata": {},
   "outputs": [
    {
     "data": {
      "text/plain": [
       "<matplotlib.axes._subplots.AxesSubplot at 0x1ee88774390>"
      ]
     },
     "execution_count": 26,
     "metadata": {},
     "output_type": "execute_result"
    },
    {
     "data": {
      "image/png": "[encoded data removed]",
      "text/plain": [
       "<Figure size 432x288 with 1 Axes>"
      ]
     },
     "metadata": {
      "needs_background": "light"
     },
     "output_type": "display_data"
    }
   ],
   "source": [
    "sns.distplot(small_tmdb['vote_average'])"
   ]
  },
  {
   "cell_type": "markdown",
   "metadata": {},
   "source": [
    "The mode of the voting average is about 6.3. "
   ]
  },
  {
   "cell_type": "markdown",
   "metadata": {},
   "source": [
    "<a id='eda'></a>\n",
    "## Exploratory Data Analysis\n",
    "\n",
    "\n",
    "### Research Question 1 (adjusted revenue vs popularity)"
   ]
  },
  {
   "cell_type": "code",
   "execution_count": 27,
   "metadata": {},
   "outputs": [
    {
     "data": {
      "text/plain": [
       "<matplotlib.axes._subplots.AxesSubplot at 0x1ee888bf828>"
      ]
     },
     "execution_count": 27,
     "metadata": {},
     "output_type": "execute_result"
    },
    {
     "data": {
      "image/png": "[encoded data removed]",
      "text/plain": [
       "<Figure size 432x288 with 1 Axes>"
      ]
     },
     "metadata": {
      "needs_background": "light"
     },
     "output_type": "display_data"
    }
   ],
   "source": [
    "sns.scatterplot(x = \"popularity\", y = \"log_rev_adj\",data = small_tmdb,alpha = 0.3)"
   ]
  },
  {
   "cell_type": "markdown",
   "metadata": {},
   "source": [
    "For a better visualization of the density of movies in the above plot."
   ]
  },
  {
   "cell_type": "code",
   "execution_count": 28,
   "metadata": {},
   "outputs": [
    {
     "data": {
      "text/plain": [
       "<seaborn.axisgrid.JointGrid at 0x1ee88946470>"
      ]
     },
     "execution_count": 28,
     "metadata": {},
     "output_type": "execute_result"
    },
    {
     "data": {
      "image/png": "[encoded data removed]",
      "text/plain": [
       "<Figure size 432x432 with 3 Axes>"
      ]
     },
     "metadata": {
      "needs_background": "light"
     },
     "output_type": "display_data"
    }
   ],
   "source": [
    "sns.jointplot(x = \"popularity\", y = \"log_rev_adj\",data = small_tmdb,kind=\"hex\",color=\"#4CB391\")"
   ]
  },
  {
   "cell_type": "markdown",
   "metadata": {},
   "source": [
    "There is no clear correlation between the popularity with the movie adjusted revenue. "
   ]
  },
  {
   "cell_type": "markdown",
   "metadata": {},
   "source": [
    "### Research Question 2  (adjusted revenue and budgets)"
   ]
  },
  {
   "cell_type": "code",
   "execution_count": 29,
   "metadata": {},
   "outputs": [
    {
     "data": {
      "text/plain": [
       "<matplotlib.axes._subplots.AxesSubplot at 0x1ee88a57630>"
      ]
     },
     "execution_count": 29,
     "metadata": {},
     "output_type": "execute_result"
    },
    {
     "data": {
      "image/png": "[encoded data removed]",
      "text/plain": [
       "<Figure size 432x288 with 1 Axes>"
      ]
     },
     "metadata": {
      "needs_background": "light"
     },
     "output_type": "display_data"
    }
   ],
   "source": [
    "sns.scatterplot(x = \"log_bug_adj\", y = \"log_rev_adj\",data = small_tmdb,color=\"#4CB391\")"
   ]
  },
  {
   "cell_type": "markdown",
   "metadata": {},
   "source": [
    "There is a strong correlation between movie budgets and revenue. The correlation is stronger when either of them are higher. \n",
    "But there is still some movies with really high budgets and relatively lower revenue. "
   ]
  },
  {
   "cell_type": "markdown",
   "metadata": {},
   "source": [
    "### Research Question 3 (adjusted profits and directors)\n"
   ]
  },
  {
   "cell_type": "code",
   "execution_count": 30,
   "metadata": {},
   "outputs": [],
   "source": [
    "small_tmdb['profit_adj'] = small_tmdb['revenue_adj'] - small_tmdb['budget_adj']"
   ]
  },
  {
   "cell_type": "code",
   "execution_count": 31,
   "metadata": {},
   "outputs": [
    {
     "data": {
      "text/html": [
       "<div>\n",
       "<style scoped>\n",
       "    .dataframe tbody tr th:only-of-type {\n",
       "        vertical-align: middle;\n",
       "    }\n",
       "\n",
       "    .dataframe tbody tr th {\n",
       "        vertical-align: top;\n",
       "    }\n",
       "\n",
       "    .dataframe thead th {\n",
       "        text-align: right;\n",
       "    }\n",
       "</style>\n",
       "<table border=\"1\" class=\"dataframe\">\n",
       "  <thead>\n",
       "    <tr style=\"text-align: right;\">\n",
       "      <th></th>\n",
       "      <th>profit_adj</th>\n",
       "      <th>director</th>\n",
       "    </tr>\n",
       "    <tr>\n",
       "      <th>director</th>\n",
       "      <th></th>\n",
       "      <th></th>\n",
       "    </tr>\n",
       "  </thead>\n",
       "  <tbody>\n",
       "    <tr>\n",
       "      <th>Steven Spielberg</th>\n",
       "      <td>1.312603e+10</td>\n",
       "      <td>27</td>\n",
       "    </tr>\n",
       "    <tr>\n",
       "      <th>James Cameron</th>\n",
       "      <td>6.296578e+09</td>\n",
       "      <td>8</td>\n",
       "    </tr>\n",
       "    <tr>\n",
       "      <th>George Lucas</th>\n",
       "      <td>5.844159e+09</td>\n",
       "      <td>6</td>\n",
       "    </tr>\n",
       "    <tr>\n",
       "      <th>Peter Jackson</th>\n",
       "      <td>5.645492e+09</td>\n",
       "      <td>11</td>\n",
       "    </tr>\n",
       "    <tr>\n",
       "      <th>Robert Zemeckis</th>\n",
       "      <td>4.335995e+09</td>\n",
       "      <td>15</td>\n",
       "    </tr>\n",
       "  </tbody>\n",
       "</table>\n",
       "</div>"
      ],
      "text/plain": [
       "                    profit_adj  director\n",
       "director                                \n",
       "Steven Spielberg  1.312603e+10        27\n",
       "James Cameron     6.296578e+09         8\n",
       "George Lucas      5.844159e+09         6\n",
       "Peter Jackson     5.645492e+09        11\n",
       "Robert Zemeckis   4.335995e+09        15"
      ]
     },
     "execution_count": 31,
     "metadata": {},
     "output_type": "execute_result"
    }
   ],
   "source": [
    "small_tmdb.groupby('director').agg({\"profit_adj\":\"sum\",\"director\":\"count\"}).\\\n",
    "sort_values(by = \"profit_adj\",ascending = False).head()"
   ]
  },
  {
   "cell_type": "markdown",
   "metadata": {},
   "source": [
    "It comes with no surprise that James, George and Steven are the directors that produced a lot of high profit movies. \n",
    "James Cameron has the highest profit per movie compared to the other two. "
   ]
  },
  {
   "cell_type": "markdown",
   "metadata": {},
   "source": [
    "### Research Question 4 (adjusted revenue and movie genre)\n"
   ]
  },
  {
   "cell_type": "markdown",
   "metadata": {},
   "source": [
    "There are many genres in a movie, and we will use the first one as its main genre."
   ]
  },
  {
   "cell_type": "code",
   "execution_count": 32,
   "metadata": {},
   "outputs": [],
   "source": [
    "small_tmdb[\"major_genre\"] = small_tmdb['genres'].str.split(\"|\",expand = True).iloc[:,0]    "
   ]
  },
  {
   "cell_type": "code",
   "execution_count": 33,
   "metadata": {},
   "outputs": [
    {
     "data": {
      "image/png": "[encoded data removed]",
      "text/plain": [
       "<Figure size 576x576 with 1 Axes>"
      ]
     },
     "metadata": {
      "needs_background": "light"
     },
     "output_type": "display_data"
    }
   ],
   "source": [
    "plt.figure(figsize = (8,8))\n",
    "sns.boxplot(x = \"major_genre\", y = \"log_rev_adj\", data = small_tmdb)\n",
    "plt.xticks(rotation=60);"
   ]
  },
  {
   "cell_type": "markdown",
   "metadata": {},
   "source": [
    "There is not a clear difference of movie revenue between different genres except that documentary movies have a lower median revenue. "
   ]
  },
  {
   "cell_type": "markdown",
   "metadata": {},
   "source": [
    "<a id='conclusions'></a>\n",
    "## Conclusions\n",
    "\n",
    "1. The mode of the movie budgets is 100 million dollars. \n",
    "2. Popularity has no clear correlation with revenue. \n",
    "3. Revenues are positively correlated with budgets. \n",
    "4. The top 3 director in term of profits generated are Steven Spielberg, James Cameron and George Lucas, whereas Lucas has the highest per movie profits. \n",
    "5. Documentary movies have a much lower median adjusted revenue compared to other movie genres. The Drama genre has the biggest variance in terms of adjusted revenue. "
   ]
  }
 ],
 "metadata": {
  "kernelspec": {
   "display_name": "Python 3",
   "language": "python",
   "name": "python3"
  },
  "language_info": {
   "codemirror_mode": {
    "name": "ipython",
    "version": 3
   },
   "file_extension": ".py",
   "mimetype": "text/x-python",
   "name": "python",
   "nbconvert_exporter": "python",
   "pygments_lexer": "ipython3",
   "version": "3.7.1"
  }
 },
 "nbformat": 4,
 "nbformat_minor": 2
}
